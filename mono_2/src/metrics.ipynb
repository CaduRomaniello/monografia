{
 "cells": [
  {
   "cell_type": "code",
   "execution_count": 36,
   "metadata": {},
   "outputs": [],
   "source": [
    "import os\n",
    "import copy\n",
    "import json\n",
    "import numpy as np\n",
    "import plotly.graph_objects as go\n",
    "\n",
    "from pymoo.indicators.hv import Hypervolume, HV\n",
    "from heuristics.mip import mipPy\n",
    "from movements.allocate import allocate\n",
    "from classes.objectives import Objectives\n",
    "from utils.instance import parse_data, read_instance\n",
    "from utils.pareto import dominates\n",
    "from utils.population import generate_first_population\n",
    "from utils.verifier import remove_objectives_duplicates, verifier\n",
    "from utils.dataManipulation import allocate_professors, allocate_reservations, create_variable_classrooms, create_variable_meetings, create_variable_professors, find_preferences, find_relatives_meetings"
   ]
  },
  {
   "cell_type": "code",
   "execution_count": 12,
   "metadata": {},
   "outputs": [],
   "source": [
    "def normalize_values(values_1, values_2, values_3):\n",
    "    max_value = max(max(values_1), max(values_2), max(values_3))\n",
    "    min_value = min(min(values_1), min(values_2), min(values_3))\n",
    "    return [((value - min_value) / (max_value - min_value)) if (max_value - min_value != 0) else 1 for value in values_1],\\\n",
    "           [((value - min_value) / (max_value - min_value)) if (max_value - min_value != 0) else 1 for value in values_2],\\\n",
    "           [((value - min_value) / (max_value - min_value)) if (max_value - min_value != 0) else 1 for value in values_3]\n",
    "\n",
    "def nondominated_sort(solutions):\n",
    "    fronts = []\n",
    "    domination_count = [0] * len(solutions)\n",
    "    dominated_solutions = [[] for _ in range(len(solutions))]\n",
    "\n",
    "    for i in range(len(solutions)):\n",
    "        for j in range(i + 1, len(solutions)):\n",
    "            if dominates(solutions[i], solutions[j]):\n",
    "                dominated_solutions[i].append(j)\n",
    "                domination_count[j] += 1\n",
    "            elif dominates(solutions[j], solutions[i]):\n",
    "                dominated_solutions[j].append(i)\n",
    "                domination_count[i] += 1\n",
    "\n",
    "    front = []\n",
    "    for i in range(len(solutions)):\n",
    "        if domination_count[i] == 0:\n",
    "            front.append(i)\n",
    "\n",
    "    while front:\n",
    "        next_front = []\n",
    "        for i in front:\n",
    "            for j in dominated_solutions[i]:\n",
    "                domination_count[j] -= 1\n",
    "                if domination_count[j] == 0:\n",
    "                    next_front.append(j)\n",
    "        fronts.append(front)\n",
    "        front = next_front\n",
    "\n",
    "    return fronts"
   ]
  },
  {
   "cell_type": "code",
   "execution_count": 6,
   "metadata": {},
   "outputs": [
    {
     "name": "stdout",
     "output_type": "stream",
     "text": [
      "[INFO] Reading instance file 'input-seed-6-size-1000.json'\n",
      "[INFO] Parsing instance data\n",
      "[INFO] Parsing schedules\n",
      "[INFO] Parsing buildings\n",
      "[INFO] Parsing classrooms\n",
      "[INFO] Parsing professors\n",
      "[INFO] Parsing subjects\n",
      "[INFO] Parsing meetings\n",
      "[INFO] Parsing preferences\n",
      "[INFO] Parsing restrictions\n",
      "[INFO] Parsing reservations\n",
      "\n",
      "[INFO] Creating variable classrooms\n"
     ]
    },
    {
     "name": "stderr",
     "output_type": "stream",
     "text": [
      "100%|██████████| 36/36 [00:00<00:00, 36080.03it/s]\n"
     ]
    },
    {
     "name": "stdout",
     "output_type": "stream",
     "text": [
      "\n",
      "[INFO] Creating variable professors\n"
     ]
    },
    {
     "name": "stderr",
     "output_type": "stream",
     "text": [
      "  0%|          | 0/226 [00:00<?, ?it/s]"
     ]
    },
    {
     "name": "stderr",
     "output_type": "stream",
     "text": [
      "100%|██████████| 226/226 [00:00<00:00, 37992.49it/s]\n"
     ]
    },
    {
     "name": "stdout",
     "output_type": "stream",
     "text": [
      "\n",
      "[INFO] Creating variable meetings\n"
     ]
    },
    {
     "name": "stderr",
     "output_type": "stream",
     "text": [
      "100%|██████████| 1000/1000 [00:00<00:00, 501291.26it/s]\n"
     ]
    },
    {
     "name": "stdout",
     "output_type": "stream",
     "text": [
      "[INFO] Finding relatives meetings\n",
      "\n",
      "[INFO] Finding a professor for every meeting (this function must be changed if instance is correct)\n"
     ]
    },
    {
     "name": "stderr",
     "output_type": "stream",
     "text": [
      "100%|██████████| 1000/1000 [00:00<00:00, 200205.44it/s]\n"
     ]
    },
    {
     "name": "stdout",
     "output_type": "stream",
     "text": [
      "\n",
      "[INFO] Allocating reservations\n"
     ]
    },
    {
     "name": "stderr",
     "output_type": "stream",
     "text": [
      "100%|██████████| 4/4 [00:00<?, ?it/s]\n"
     ]
    },
    {
     "name": "stdout",
     "output_type": "stream",
     "text": [
      "\n",
      "[INFO] Adding preferences to meetings\n"
     ]
    },
    {
     "name": "stderr",
     "output_type": "stream",
     "text": [
      "100%|██████████| 6/6 [00:00<00:00, 3008.47it/s]"
     ]
    },
    {
     "name": "stdout",
     "output_type": "stream",
     "text": [
      "[INFO] Saving original solution\n",
      "[INFO] Verifying solution\n",
      "[INFO] Solution is correct\n",
      "1000\n",
      "36\n",
      "16\n"
     ]
    },
    {
     "name": "stderr",
     "output_type": "stream",
     "text": [
      "\n"
     ]
    }
   ],
   "source": [
    "objectives = Objectives()\n",
    "\n",
    "# Reading instance data\n",
    "filename = 'input-seed-6-size-1000.json'\n",
    "instance_data = read_instance(filename)\n",
    "\n",
    "# Creating variables\n",
    "instance = parse_data(instance_data)\n",
    "classrooms = create_variable_classrooms(instance)\n",
    "professors = create_variable_professors(instance)\n",
    "meetings = create_variable_meetings(instance, objectives)\n",
    "\n",
    "# Allocating professors, reservations, preferences and looking for relatives meetings\n",
    "relatives_meetings = find_relatives_meetings(meetings)\n",
    "allocate_professors(meetings, professors)\n",
    "allocate_reservations(classrooms, instance[\"reservations\"])\n",
    "find_preferences(meetings, instance[\"preferences\"])\n",
    "\n",
    "# Saving original solution\n",
    "print(f\"[INFO] Saving original solution\")\n",
    "original_meetings = copy.deepcopy(meetings)\n",
    "original_classrooms = copy.deepcopy(classrooms)\n",
    "original_objectives = copy.deepcopy(objectives)\n",
    "original_solution = {\n",
    "    \"meetings\": original_meetings,\n",
    "    \"classrooms\": original_classrooms,\n",
    "    \"objectives\": original_objectives\n",
    "}\n",
    "verifier(original_solution)\n",
    "\n",
    "print(len(original_meetings))\n",
    "print(len(classrooms))\n",
    "print(len(instance_data['schedules']))"
   ]
  },
  {
   "cell_type": "code",
   "execution_count": 7,
   "metadata": {},
   "outputs": [],
   "source": [
    "monday = []\n",
    "tuesday = []\n",
    "wednesday = []\n",
    "thursday = []\n",
    "friday = []\n",
    "saturday = []\n",
    "for meeting in original_meetings:\n",
    "    if meeting.day_name() == 'monday':\n",
    "        monday.append(meeting)\n",
    "    elif meeting.day_name() == 'tuesday':\n",
    "        tuesday.append(meeting)\n",
    "    elif meeting.day_name() == 'wednesday':\n",
    "        wednesday.append(meeting)\n",
    "    elif meeting.day_name() == 'thursday':\n",
    "        thursday.append(meeting)\n",
    "    elif meeting.day_name() == 'friday':\n",
    "        friday.append(meeting)\n",
    "    elif meeting.day_name() == 'saturday':\n",
    "        saturday.append(meeting)\n",
    "    else:\n",
    "        raise Exception('Invalid day of week')\n",
    "\n",
    "# Solving subparts using MIP\n",
    "mip_solution = copy.deepcopy(original_solution)"
   ]
  },
  {
   "cell_type": "code",
   "execution_count": 8,
   "metadata": {},
   "outputs": [
    {
     "name": "stdout",
     "output_type": "stream",
     "text": [
      "[INFO] Starting MIP\n",
      "[INFO] MIP finished\n",
      "[INFO] Starting MIP\n",
      "[INFO] MIP finished\n",
      "[INFO] Starting MIP\n",
      "[INFO] MIP finished\n",
      "[INFO] Starting MIP\n",
      "[INFO] MIP finished\n",
      "[INFO] Starting MIP\n",
      "[INFO] MIP finished\n",
      "[INFO] Starting MIP\n",
      "[INFO] MIP finished\n",
      "[INFO] Verifying solution\n",
      "[INFO] Solution is correct\n",
      "\n",
      "====================== Objectives ======================\n",
      "Idleness   :  0\n",
      "Deallocated:  2615\n",
      "Standing   :  282\n",
      "========================================================\n",
      "[INFO] Total cost: 2897.0\n"
     ]
    }
   ],
   "source": [
    "## Monday\n",
    "monday_cost, monday_allocations = mipPy({'meetings': monday, \"classrooms\": original_classrooms, \"objectives\": original_objectives}, instance)\n",
    "for i in monday_allocations:\n",
    "    if i['classroom_id'] != 0:\n",
    "        allocate(mip_solution, i['meeting_id'], i['classroom_id'])\n",
    "\n",
    "## Tuesday\n",
    "tuesday_cost, tuesday_allocations = mipPy({'meetings': tuesday, \"classrooms\": original_classrooms, \"objectives\": original_objectives}, instance)\n",
    "for i in tuesday_allocations:\n",
    "    if i['classroom_id'] != 0:\n",
    "        allocate(mip_solution, i['meeting_id'], i['classroom_id'])\n",
    "\n",
    "## Wednesday\n",
    "wednesday_cost, wednesday_allocations = mipPy({'meetings': wednesday, \"classrooms\": original_classrooms, \"objectives\": original_objectives}, instance)\n",
    "for i in wednesday_allocations:\n",
    "    if i['classroom_id'] != 0:\n",
    "        allocate(mip_solution, i['meeting_id'], i['classroom_id'])\n",
    "\n",
    "## Thursday\n",
    "thursday_cost, thursday_allocations = mipPy({'meetings': thursday, \"classrooms\": original_classrooms, \"objectives\": original_objectives}, instance)\n",
    "for i in thursday_allocations:\n",
    "    if i['classroom_id'] != 0:\n",
    "        allocate(mip_solution, i['meeting_id'], i['classroom_id'])\n",
    "\n",
    "## Friday\n",
    "friday_cost, friday_allocations = mipPy({'meetings': friday, \"classrooms\": original_classrooms, \"objectives\": original_objectives}, instance)\n",
    "for i in friday_allocations:\n",
    "    if i['classroom_id'] != 0:\n",
    "        allocate(mip_solution, i['meeting_id'], i['classroom_id'])\n",
    "\n",
    "## Saturday\n",
    "saturday_cost, saturday_allocations = mipPy({'meetings': saturday, \"classrooms\": original_classrooms, \"objectives\": original_objectives}, instance)\n",
    "for i in saturday_allocations:\n",
    "    if i['classroom_id'] != 0:\n",
    "        allocate(mip_solution, i['meeting_id'], i['classroom_id'])\n",
    "\n",
    "## Verifying MIP solution\n",
    "verifier(mip_solution)\n",
    "mip_solution['objectives'].print()\n",
    "total_cost = monday_cost + tuesday_cost + wednesday_cost + thursday_cost + friday_cost + saturday_cost\n",
    "print(f'[INFO] Total cost: {total_cost}')\n",
    "# exit()\n",
    "\n",
    "mip_objectives = copy.deepcopy(mip_solution['objectives'])"
   ]
  },
  {
   "cell_type": "code",
   "execution_count": 42,
   "metadata": {},
   "outputs": [
    {
     "name": "stdout",
     "output_type": "stream",
     "text": [
      "Diretório de Trabalho Atual: d:\\faculdade\\monografia\\mono_2\\src\n",
      "216\n",
      "[INFO] Removing objectives duplicates\n",
      "51\n",
      "50\n",
      "500\n",
      "[INFO] Removing objectives duplicates\n",
      "499\n",
      "456\n",
      "[INFO] Number of solutions LAHC: [60, 14, 38, 45, 59]\n",
      "[INFO] Number of solutions NSGAII: [100, 100, 100, 100, 100]\n",
      "1\n",
      "1\n"
     ]
    }
   ],
   "source": [
    "filename = 'input-seed-6-size-1000.json'\n",
    "input = filename\n",
    "if filename != 'instance.json':\n",
    "    filename = filename.split('.')[0].split('input-')[1]\n",
    "else:\n",
    "    filename = filename.split('.')[0]\n",
    "filename = f'output-instance-{filename}'\n",
    "\n",
    "current_directory = os.getcwd()\n",
    "print('Diretório de Trabalho Atual:', current_directory)\n",
    "\n",
    "lahc_multi_data = []\n",
    "number_of_solutions_lahc = []\n",
    "for i in range(5):\n",
    "    with open(f'../json/output/lahc-multi/{filename}-params-seed-{i + 1}-time-900.json', 'r') as file:\n",
    "        data = json.load(file)\n",
    "        number_of_solutions_lahc.append(len(data[0]))\n",
    "        data = [Objectives(i[\"idleness\"], i[\"deallocated\"], i[\"standing\"]) for i in data[0]]\n",
    "        lahc_multi_data = lahc_multi_data + data\n",
    "print(len(lahc_multi_data))\n",
    "lahc_multi_data = remove_objectives_duplicates(lahc_multi_data)\n",
    "pareto_front = nondominated_sort(lahc_multi_data)[0]\n",
    "print(len(lahc_multi_data))\n",
    "lahc_multi_data = [lahc_multi_data[i] for i in pareto_front]\n",
    "print(len(lahc_multi_data))\n",
    "\n",
    "nsgaII_data = []\n",
    "number_of_solutions_nsgaII = []\n",
    "for i in range(5):\n",
    "    with open(f'../json/output/nsgaII/{filename}-params-seed-{i + 1}-time-900.json', 'r') as file:\n",
    "        data = json.load(file)\n",
    "        number_of_solutions_nsgaII.append(len(data[0]))\n",
    "        data = [Objectives(i[\"idleness\"], i[\"deallocated\"], i[\"standing\"]) for i in data[0]]\n",
    "        nsgaII_data = nsgaII_data + data\n",
    "print(len(nsgaII_data))\n",
    "nsgaII_data = remove_objectives_duplicates(nsgaII_data)\n",
    "print(len(nsgaII_data))\n",
    "pareto_front = nondominated_sort(nsgaII_data)[0]\n",
    "nsgaII_data = [nsgaII_data[i] for i in pareto_front]\n",
    "print(len(nsgaII_data))\n",
    "\n",
    "mip_data = [mip_objectives]\n",
    "\n",
    "print(f'[INFO] Number of solutions LAHC: {number_of_solutions_lahc}')\n",
    "print(f'[INFO] Number of solutions NSGAII: {number_of_solutions_nsgaII}')\n",
    "print(len(nondominated_sort(lahc_multi_data)))\n",
    "print(len(nondominated_sort(nsgaII_data)))"
   ]
  },
  {
   "cell_type": "code",
   "execution_count": 23,
   "metadata": {},
   "outputs": [],
   "source": [
    "x_axis_lahc_multi = [i.idleness for i in lahc_multi_data]\n",
    "y_axis_lahc_multi = [i.deallocated for i in lahc_multi_data]\n",
    "z_axis_lahc_multi = [i.standing for i in lahc_multi_data]\n",
    "\n",
    "x_axis_nsgaII = [i.idleness for i in nsgaII_data]\n",
    "y_axis_nsgaII = [i.deallocated for i in nsgaII_data]\n",
    "z_axis_nsgaII = [i.standing for i in nsgaII_data]\n",
    "\n",
    "x_axis_mip = [i.idleness for i in mip_data]\n",
    "y_axis_mip = [i.deallocated for i in mip_data]\n",
    "z_axis_mip = [i.standing for i in mip_data]\n",
    "\n",
    "# x_axis_initial = [i.idleness for i in initial_population]\n",
    "# y_axis_initial = [i.deallocated for i in initial_population]\n",
    "# z_axis_initial = [i.standing for i in initial_population]\n",
    "\n",
    "x_axis_lahc_multi, x_axis_nsgaII, x_axis_mip = normalize_values(x_axis_lahc_multi, x_axis_nsgaII, x_axis_mip)\n",
    "y_axis_lahc_multi, y_axis_nsgaII, y_axis_mip = normalize_values(y_axis_lahc_multi, y_axis_nsgaII, y_axis_mip)\n",
    "z_axis_lahc_multi, z_axis_nsgaII, z_axis_mip = normalize_values(z_axis_lahc_multi, z_axis_nsgaII, z_axis_mip)"
   ]
  },
  {
   "cell_type": "code",
   "execution_count": 29,
   "metadata": {},
   "outputs": [
    {
     "name": "stdout",
     "output_type": "stream",
     "text": [
      "[[0.9639415354963058, 0.09024211298606016, 0.9207207207207208], [0.06424670735624799, 0.8030080704328687, 0.013813813813813814], [0.06336331513009959, 0.8176815847395451, 0.013813813813813814], [0.06416639897205269, 0.8096111518708731, 0.013813813813813814], [0.06392547381946675, 0.8121790168745414, 0.013813813813813814], [0.06480886604561516, 0.7989728539985327, 0.013813813813813814], [0.0659331834243495, 0.7923697725605282, 0.013813813813813814], [0.06954706071313844, 0.7802641232575201, 0.013813813813813814], [0.06689688403469322, 0.7865003668378576, 0.013813813813813814], [0.957516864760681, 0.09574468085106383, 0.8996996996996997], [0.06890459363957598, 0.7971386647101981, 0.013813813813813814], [0.05878573723096691, 0.8294203961848863, 0.013813813813813814], [0.060231288146482494, 0.8114453411592076, 0.013813813813813814], [0.06416639897205269, 0.801540719002201, 0.013813813813813814], [0.06151622229360745, 0.8077769625825385, 0.013813813813813814], [0.06304208159331834, 0.8022743947175348, 0.013813813813813814], [0.9592033408287826, 0.03961848862802641, 0.8948948948948949], [0.06368454866688082, 0.7890682318415261, 0.013813813813813814], [0.06127529714102152, 0.7942039618488628, 0.013813813813813814], [0.05942820430452939, 0.8008070432868672, 0.013813813813813814], [0.056055252168326374, 0.8198826118855466, 0.013813813813813814], [0.05902666238355284, 0.8074101247248716, 0.013813813813813814], [0.058464503694185675, 0.8151137197358768, 0.013813813813813814], [0.057179569547060716, 0.8158473954512105, 0.013813813813813814], [0.058946353999357534, 0.8103448275862069, 0.013813813813813814], [0.053485383874076455, 0.8279530447542186, 0.013813813813813814], [0.05533247671056858, 0.8239178283198826, 0.013813813813813814], [0.9281239961451976, 0.09684519442406456, 0.8306306306306306], [0.06569225827176357, 0.8088774761555393, 0.013813813813813814], [0.06745904272406039, 0.8011738811445341, 0.013813813813813814], [0.07163507870221651, 0.789435069699193, 0.013813813813813814], [0.06818181818181818, 0.7956713132795304, 0.013813813813813814], [0.07219723739158368, 0.7842993396918562, 0.013813813813813814], [0.069948602634115, 0.7901687454145268, 0.013813813813813814], [0.07243816254416961, 0.7831988261188555, 0.013813813813813814], [0.06970767748152908, 0.7945707997065297, 0.013813813813813814], [0.06424670735624799, 0.8184152604548789, 0.013813813813813814], [0.06641503372952136, 0.8063096111518708, 0.013813813813813814], [0.0698682942499197, 0.7920029347028613, 0.013813813813813814], [0.06786058464503694, 0.797505502567865, 0.013813813813813814], [0.9428204304529393, 0.13279530447542187, 0.8282282282282283], [0.061837455830388695, 0.8037417461482025, 0.013813813813813814], [0.058143270157404434, 0.8173147468818782, 0.013813813813813814], [0.06167683906199807, 0.8044754218635363, 0.013813813813813814], [0.0611146803726309, 0.8305209097578871, 0.01021021021021021], [0.06569225827176357, 0.7942039618488628, 0.013813813813813814], [0.0635239318984902, 0.7989728539985327, 0.013813813813813814], [0.06079344683584966, 0.8048422597212033, 0.013813813813813814], [0.05878573723096691, 0.8118121790168745, 0.013813813813813814], [0.06312238997751365, 0.8033749082905356, 0.013813813813813814], [0.05958882107292001, 0.8092443140132062, 0.013813813813813814]]\n"
     ]
    }
   ],
   "source": [
    "hv_lahc_data = []\n",
    "for i in range(len(x_axis_lahc_multi)):\n",
    "    hv_lahc_data.append([x_axis_lahc_multi[i], y_axis_lahc_multi[i], z_axis_lahc_multi[i]])\n",
    "\n",
    "hv_nsgaII_data = []\n",
    "for i in range(len(x_axis_nsgaII)):\n",
    "    hv_nsgaII_data.append([x_axis_nsgaII[i], y_axis_nsgaII[i], z_axis_nsgaII[i]])"
   ]
  },
  {
   "cell_type": "code",
   "execution_count": 40,
   "metadata": {},
   "outputs": [
    {
     "name": "stdout",
     "output_type": "stream",
     "text": [
      "Hypervolume LAHC: 5.647212876930048\n",
      "Hypervolume NSGA-II: 5.737214818872731\n"
     ]
    }
   ],
   "source": [
    "reference_point = np.array([2.0, 2.0, 2.0])\n",
    "\n",
    "hv_calculator = Hypervolume(reference_point)\n",
    "hypervolume = hv_calculator.do(np.array(hv_lahc_data))\n",
    "print(\"Hypervolume LAHC:\", hypervolume)\n",
    "\n",
    "hypervolume = hv_calculator.do(np.array(hv_nsgaII_data))\n",
    "print(\"Hypervolume NSGA-II:\", hypervolume)"
   ]
  },
  {
   "cell_type": "code",
   "execution_count": 25,
   "metadata": {},
   "outputs": [],
   "source": [
    "fig = go.Figure()\n",
    "\n",
    "lahc_multi_scatter = go.Scatter3d(x=x_axis_lahc_multi, y=y_axis_lahc_multi, z=z_axis_lahc_multi, mode='markers', name='MOLA', hovertemplate='<b>Idleness</b>: %{x}'+'<br><b>Deallocated</b>: %{y}<br><b>Standing</b>: %{z}', marker=dict(color='red', size=2))\n",
    "nsgaII_scatter = go.Scatter3d(x=x_axis_nsgaII, y=y_axis_nsgaII, z=z_axis_nsgaII, mode='markers', name='NSGA-II', hovertemplate='<b>Idleness</b>: %{x}'+'<br><b>Deallocated</b>: %{y}<br><b>Standing</b>: %{z}', marker=dict(color='blue', size=2))\n",
    "mip_scatter = go.Scatter3d(x=x_axis_mip, y=y_axis_mip, z=z_axis_mip, mode='markers', name='MIP', hovertemplate='<b>Idleness</b>: %{x}'+'<br><b>Deallocated</b>: %{y}<br><b>Standing</b>: %{z}', marker=dict(color='green', size=2))\n",
    "# initial_scatter = go.Scatter3d(x=x_axis_initial, y=y_axis_initial, z=z_axis_initial, mode='markers', name='Initial Population', hovertemplate='<b>Idleness</b>: %{x}'+'<br><b>Deallocated</b>: %{y}<br><b>Standing</b>: %{z}')\n",
    "\n",
    "fig.add_trace(lahc_multi_scatter)\n",
    "fig.add_trace(nsgaII_scatter)\n",
    "fig.add_trace(mip_scatter)\n",
    "# fig.add_trace(initial_scatter)\n",
    "\n",
    "fig.update_layout(scene=dict(xaxis_title='Idleness', yaxis_title='Deallocated', zaxis_title='Standing'))\n",
    "\n",
    "fig.update_layout(title=f'Solutions Comparison ({input})')\n",
    "\n",
    "fig.update_layout(legend=dict(title='Algorithms'))\n",
    "\n",
    "# fig = go.Figure(data=[\n",
    "#         go.Scatter3d(x=x_axis_nsgaII, y=y_axis_nsgaII, z=z_axis_nsgaII, mode='markers', marker=dict(color='red', size=7)),\n",
    "#         go.Scatter3d(x=x_axis_lahc_multi, y=y_axis_lahc_multi, z=z_axis_lahc_multi, mode='markers', marker=dict(color='blue', size=7)),\n",
    "#         go.Scatter3d(x=x_axis_mip, y=y_axis_mip, z=z_axis_mip, mode='markers', marker=dict(color='green', size=7))\n",
    "#     ]\n",
    "# )\n",
    "\n",
    "# fig.update_layout(scene=dict(xaxis_title='Idleness', yaxis_title='Deallocated', zaxis_title='Standing'))\n",
    "\n",
    "# Exibir o gráfico\n",
    "# fig.show()\n",
    "fig.write_image(f\"../graphics/tables/{input.split('.')[0]}.png\", engine='kaleido')"
   ]
  }
 ],
 "metadata": {
  "kernelspec": {
   "display_name": "Python 3",
   "language": "python",
   "name": "python3"
  },
  "language_info": {
   "codemirror_mode": {
    "name": "ipython",
    "version": 3
   },
   "file_extension": ".py",
   "mimetype": "text/x-python",
   "name": "python",
   "nbconvert_exporter": "python",
   "pygments_lexer": "ipython3",
   "version": "3.11.5"
  }
 },
 "nbformat": 4,
 "nbformat_minor": 2
}
